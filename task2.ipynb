{
  "nbformat": 4,
  "nbformat_minor": 0,
  "metadata": {
    "colab": {
      "name": "task2.ipynb",
      "provenance": [],
      "collapsed_sections": [],
      "toc_visible": true
    },
    "kernelspec": {
      "name": "python3",
      "display_name": "Python 3"
    },
    "language_info": {
      "name": "python"
    }
  },
  "cells": [
    {
      "cell_type": "markdown",
      "metadata": {
        "id": "56f9dEbJJlnx"
      },
      "source": [
        "# Общее описание решения\n",
        " \n",
        "Для сравнения двух источников нужно данные из них куда-то загрузить и потом сравнить строки одной и другой таблицы. Проще всего это сделать с помощью SQL, так эта операция соответствует FULL JOIN двух таблиц с условием по всем полям сравнения. При большем кол-ве полей сравнения такой джойн может быть \"тяжелым\" для БД и можно его упростить. Склеиваем все поля сравнения в виде строк и считаем от этого поля hash. Join делаем по этому полю - БД делает или hash или merge join (в зависимости от размера таблиц) и он максимально эффективен.  Теоретически при таком подходе возможна коллизия, но она мало вероятна.\n",
        " \n",
        " \n",
        "**Требование 1: как минимум один - таблица БД, второй на выбор**\n",
        " \n",
        "*  Берем базу PG\n",
        "*  Берем csv файл\n",
        " \n",
        " \n",
        "**Требование 2: должен присутствовать уникальный ключ - uid/id на выбор**\n",
        " \n",
        "У меня в данных есть и id и uid, но уникальным будет только id.\n",
        " \n",
        "**Требование 3: Реконсиляция должна быть масштабируема и применима к Big Data**\n",
        "\n",
        "Для этого буду использовать Apache Spark. Умеет читать данные как из файлов так и из большинства БД. Дальше все данные будут сравниваться в ОЗУ с помощью Spark SQL.При увеличении объема данных для сравнения такое решение будет линейно масштабируемая - добавляем новые воркеры для Spark и продолжаем работу. Если будет необходимо надежное промежуточное хранение результатов - можно использовать любую реализацию s3 или hdfs (которые сами по себе позволяют хранить большие данные надежно в распределенной системе с резервированием).\n",
        " \n",
        "**Дополнительное требование 1: для разных типов данных (дата, текст, числа)**\n",
        " \n",
        "Мы все поля склеиваем и считаем hash. Для этого они сначала преобразуются к строке и различие в типе данных перестает иметь значение.\n",
        " \n",
        "**Дополнительное требование 2: для числовых данных должна быть возможность сконфигурировать толеранс (допустимую погрешность в %)**\n",
        " \n",
        "Для сравнения числовых полей с погрешностью - не включаем их в условия джойна, а считаем процентную разницу между таблицами и сравниваем с порогом. В рамках этой задачи я использую один порог для всех таких полей, но можно реализовать и отдельно для каждого поля.\n",
        "\n"
      ]
    },
    {
      "cell_type": "markdown",
      "metadata": {
        "id": "Zqwg3uqUxk35"
      },
      "source": [
        "# Загрузка и установка Spark"
      ]
    },
    {
      "cell_type": "code",
      "metadata": {
        "colab": {
          "base_uri": "https://localhost:8080/"
        },
        "id": "_n53X-V3fbHM",
        "outputId": "fb799544-f11c-456d-fd45-4b31d99e06f8"
      },
      "source": [
        "# install Java8\n",
        "!apt-get install openjdk-8-jdk-headless -qq > /dev/null\n",
        "\n",
        "# download spark3.1.1\n",
        "!wget -q https://www.mirrorservice.org/sites/ftp.apache.org/spark/spark-3.1.1/spark-3.1.1-bin-hadoop3.2.tgz\n",
        "# unzip it\n",
        "!tar xf spark-3.1.1-bin-hadoop3.2.tgz\n",
        "# install findspark and pyspark\n",
        "!pip install -q findspark\n",
        "!pip install pyspark"
      ],
      "execution_count": 1,
      "outputs": [
        {
          "output_type": "stream",
          "text": [
            "Requirement already satisfied: pyspark in /usr/local/lib/python3.7/dist-packages (3.1.1)\n",
            "Requirement already satisfied: py4j==0.10.9 in /usr/local/lib/python3.7/dist-packages (from pyspark) (0.10.9)\n"
          ],
          "name": "stdout"
        }
      ]
    },
    {
      "cell_type": "code",
      "metadata": {
        "id": "xankVgq7xyvA"
      },
      "source": [
        ""
      ],
      "execution_count": null,
      "outputs": []
    },
    {
      "cell_type": "markdown",
      "metadata": {
        "id": "XXj5JA7LxzDX"
      },
      "source": [
        "# Запуск и настройка Spark"
      ]
    },
    {
      "cell_type": "code",
      "metadata": {
        "id": "ZBwLwJvpfixR"
      },
      "source": [
        "# imports and spark coniguration\n",
        "import os\n",
        "os.environ[\"JAVA_HOME\"] = '/usr/lib/jvm/java-8-openjdk-amd64' \n",
        "os.environ[\"SPARK_HOME\"] = 'spark-3.1.1-bin-hadoop3.2'\n",
        "\n",
        "os.environ['PYSPARK_SUBMIT_ARGS'] = '--packages org.postgresql:postgresql:42.2.19 pyspark-shell' # драйвер для работы с PG\n",
        "\n",
        "import findspark\n",
        "findspark.init()\n",
        "\n",
        "from pyspark.sql import SparkSession, SQLContext\n",
        "from pyspark.sql import SQLContext\n",
        "\n",
        "from pyspark.sql.types import StructType, IntegerType, StringType, DoubleType\n",
        "\n",
        "\n",
        "\n",
        "spark = SparkSession.builder.master(\"local[*]\").getOrCreate()\n",
        "sqlContext = SQLContext(spark)"
      ],
      "execution_count": 29,
      "outputs": []
    },
    {
      "cell_type": "markdown",
      "metadata": {
        "id": "XXFqmFW2zWv8"
      },
      "source": [
        "# Определим общие настройки"
      ]
    },
    {
      "cell_type": "code",
      "metadata": {
        "id": "JEvYaatbzUXz"
      },
      "source": [
        "t1_name = 'datasource1'\n",
        "t1_schema_name = 'reconciliation'\n",
        "\n",
        "t2_name = 'datasource2'\n",
        "\n",
        "result_table_name = 'diff_table'\n",
        "\n",
        "# настройка полей стравнения\n",
        "params = {\n",
        "    'hash_fields': ['StockCode', 'Description', 'Quantity', 'InvoiceDate', 'uid', 'Country'], # поля, от которых будем считать hash\n",
        "    'numeric_fields': ['UnitPrice'], # поля, по которым будем считать допустимую погрешность. Должны не пересекаться с hash_fields\n",
        "    'pr': 0.1 # значение допустимой погрешности\n",
        "\n",
        "}"
      ],
      "execution_count": 189,
      "outputs": []
    },
    {
      "cell_type": "code",
      "metadata": {
        "id": "cIA87-RTzr3c"
      },
      "source": [
        ""
      ],
      "execution_count": 168,
      "outputs": []
    },
    {
      "cell_type": "markdown",
      "metadata": {
        "id": "Q797Q503yFWH"
      },
      "source": [
        "# Загрузка данных из CSV и PG в Spark"
      ]
    },
    {
      "cell_type": "code",
      "metadata": {
        "colab": {
          "base_uri": "https://localhost:8080/"
        },
        "id": "5SAqUOOihzq1",
        "outputId": "37bdedaa-1b90-4252-fcec-3feb00a5bdae"
      },
      "source": [
        "# Загрузим данные из PG и сохраним во временную таблицу Spark\n",
        "def create_table_from_pg(name, schema_name, sc=sqlContext):\n",
        "  \n",
        "  df = sc.read\\\n",
        "      .format(\"jdbc\")\\\n",
        "      .option(\"url\", \"jdbc:postgresql://34.71.247.247:5432/home_test\")\\\n",
        "      .option(\"dbtable\", f\"{schema_name}.{name}\")\\\n",
        "      .option(\"user\", \"postgres\")\\\n",
        "      .option(\"password\", \"12345678\")\\\n",
        "      .option(\"driver\", \"org.postgresql.Driver\")\\\n",
        "      .load()\n",
        "  \n",
        "  df.createOrReplaceTempView(name)\n",
        "\n",
        "  print(df.printSchema())\n",
        "\n",
        "  print (sc.sql(f'SELECT * FROM {name}').show(5))\n",
        "   \n",
        "create_table_from_pg(t1_name, t1_schema_name)"
      ],
      "execution_count": 188,
      "outputs": [
        {
          "output_type": "stream",
          "text": [
            "root\n",
            " |-- id: integer (nullable = true)\n",
            " |-- StockCode: string (nullable = true)\n",
            " |-- Description: string (nullable = true)\n",
            " |-- Quantity: integer (nullable = true)\n",
            " |-- InvoiceDate: string (nullable = true)\n",
            " |-- UnitPrice: double (nullable = true)\n",
            " |-- uid: integer (nullable = true)\n",
            " |-- Country: string (nullable = true)\n",
            "\n",
            "None\n",
            "+------+---------+--------------------+--------+------------------+---------+-----+--------------+\n",
            "|    id|StockCode|         Description|Quantity|       InvoiceDate|UnitPrice|  uid|       Country|\n",
            "+------+---------+--------------------+--------+------------------+---------+-----+--------------+\n",
            "|536366|   84406B|CREAM CUPID HEART...|       8|01.12.2010 8:26:00|     2.75|17850|United Kingdom|\n",
            "|536367|   84029G|KNITTED UNION FLA...|       6|01.12.2010 8:26:00|     3.39|17851|United Kingdom|\n",
            "|536371|    22544|MINI JIGSAW SPACEBOY|      24|01.12.2010 8:45:00|     0.42|12583|        France|\n",
            "|536372|    22492|MINI PAINT SET VI...|      36|01.12.2010 8:45:00|     0.65|12584|        France|\n",
            "|536373|     POST|             POSTAGE|       3|01.12.2010 8:45:00|     18.0|12584|        France|\n",
            "+------+---------+--------------------+--------+------------------+---------+-----+--------------+\n",
            "\n",
            "None\n"
          ],
          "name": "stdout"
        }
      ]
    },
    {
      "cell_type": "code",
      "metadata": {
        "colab": {
          "base_uri": "https://localhost:8080/"
        },
        "id": "lQclKH7kf3Y9",
        "outputId": "a7dfabfa-4627-4778-c34a-c57a91f857dc"
      },
      "source": [
        "# загрузим csv локально для загрузки в Spark\n",
        "!wget -q 'https://raw.githubusercontent.com/eugeneks/home_test_202103/main/datasource2.csv'\n",
        "\n",
        "!ls"
      ],
      "execution_count": 170,
      "outputs": [
        {
          "output_type": "stream",
          "text": [
            "datasource2\t   datasource2.csv.2  spark-3.1.1-bin-hadoop3.2\n",
            "datasource2.csv    datasource2.csv.3  spark-3.1.1-bin-hadoop3.2.tgz\n",
            "datasource2.csv.1  sample_data\t      spark-3.1.1-bin-hadoop3.2.tgz.1\n"
          ],
          "name": "stdout"
        }
      ]
    },
    {
      "cell_type": "code",
      "metadata": {
        "colab": {
          "base_uri": "https://localhost:8080/"
        },
        "id": "6C10jh7Ngu3A",
        "outputId": "8c80b10c-af70-4009-e10a-e828ceeeee40"
      },
      "source": [
        "# Загрузим данные из CSV и сохраним во временную таблицу Spark\n",
        "def create_table_from_csv(name, schema, sc=sqlContext):\n",
        "\n",
        "  df = sc.read.format(\"csv\")\\\n",
        "      .option(\"header\", \"true\")\\\n",
        "      .option(\"sep\", ',') \\\n",
        "      .schema(schema) \\\n",
        "      .load(f'./{name}.csv')\n",
        "\n",
        "  df.createOrReplaceTempView(name)\n",
        "\n",
        "  print(df.printSchema())\n",
        "\n",
        "  print (sc.sql(f'SELECT * FROM {name}').show(5))\n",
        "\n",
        "datasource2_schema = sqlContext.sql(f'SELECT * FROM {t1_name}').schema # берем схему таблицы из PG - чтоб не было проблем с соотвествием типов данных\n",
        "\n",
        "   \n",
        "create_table_from_csv(t2_name, datasource2_schema )"
      ],
      "execution_count": 190,
      "outputs": [
        {
          "output_type": "stream",
          "text": [
            "root\n",
            " |-- id: integer (nullable = true)\n",
            " |-- StockCode: string (nullable = true)\n",
            " |-- Description: string (nullable = true)\n",
            " |-- Quantity: integer (nullable = true)\n",
            " |-- InvoiceDate: string (nullable = true)\n",
            " |-- UnitPrice: double (nullable = true)\n",
            " |-- uid: integer (nullable = true)\n",
            " |-- Country: string (nullable = true)\n",
            "\n",
            "None\n",
            "+------+---------+--------------------+--------+------------------+---------+-----+--------------+\n",
            "|    id|StockCode|         Description|Quantity|       InvoiceDate|UnitPrice|  uid|       Country|\n",
            "+------+---------+--------------------+--------+------------------+---------+-----+--------------+\n",
            "|536365|    71053| WHITE METAL LANTERN|       6|01.12.2010 8:26:00|     3.39|17850|        France|\n",
            "|536366|   84406B|CREAM CUPID HEART...|       8|01.12.2010 8:26:00|      2.9|17850|United Kingdom|\n",
            "|536367|   84029G|KNITTED UNION FLA...|       6|01.12.2010 8:26:00|     3.39|17851|United Kingdom|\n",
            "|536371|    22544|MINI JIGSAW SPACEBOY|      24|01.12.2010 8:45:00|     0.42|12583|        France|\n",
            "|536373|     POST|             POSTAGE|       4|01.12.2010 8:45:00|     18.0|12584|        France|\n",
            "+------+---------+--------------------+--------+------------------+---------+-----+--------------+\n",
            "\n",
            "None\n"
          ],
          "name": "stdout"
        }
      ]
    },
    {
      "cell_type": "code",
      "metadata": {
        "id": "4Ts_hKehknRY"
      },
      "source": [
        ""
      ],
      "execution_count": 172,
      "outputs": []
    },
    {
      "cell_type": "markdown",
      "metadata": {
        "id": "f6XsCIX9JMoh"
      },
      "source": [
        "#  Реализуем логику сравнения"
      ]
    },
    {
      "cell_type": "code",
      "metadata": {
        "id": "RuclZOPqiuHU"
      },
      "source": [
        "# ищем разницу между таблицами\n",
        "def find_diff(name, sc=sqlContext, num_rows=100):\n",
        "\n",
        "  # подстановка для полей, по которым будем считать hash для join в SQL\n",
        "  join_id = ', '.join(params['hash_fields'])\n",
        "\n",
        "\n",
        "  diff_fields = ''\n",
        "  field_pos =0\n",
        "\n",
        "  # подстановка для полей, по которым будем считать погрешность в SQL\n",
        "  for diff_field in params['numeric_fields']:\n",
        "    field_pos = field_pos + 1\n",
        "    diff_fields = diff_fields + f'\\n , COALESCE(abs(t1.{diff_field}-t2.{diff_field})/ greatest(t1.{diff_field}, t2.{diff_field}), 0) AS diff_{field_pos}'\n",
        "  \n",
        "  sql = f\"\"\"\n",
        "  with t1 AS (\n",
        "    SELECT *\n",
        "        , ABS(hash(CONCAT ({join_id}))) as join_id\n",
        "        , '{t1_name}'           AS datasource\n",
        "    FROM \n",
        "      {t1_name}\n",
        "  )\n",
        "  , t2 AS(\n",
        "    SELECT *\n",
        "      , ABS(hash(CONCAT ({join_id}))) as join_id\n",
        "      , '{t2_name}' AS datasource\n",
        "    FROM \n",
        "      {t2_name}\n",
        "\n",
        "  )\n",
        "  SELECT\n",
        "    t1.id AS t1_id\n",
        "    , t1.datasource\n",
        "    ,  t1.join_id AS t1_join_id\n",
        "    , t2.id AS t2_id\n",
        "    , t2.datasource\n",
        "    , t2.join_id AS t2_join_id\n",
        "    {diff_fields}\n",
        "  FROM\n",
        "    t1\n",
        "  FULL JOIN\n",
        "    t2\n",
        "  ON\n",
        "    t1.id =t2.id\n",
        "    AND t1.join_id = t2.join_id\n",
        "    AND t1.datasource != t2.datasource\n",
        "  ORDER BY \n",
        "    COALESCE(t1.id, t2.id), COALESCE(t1.datasource, t2.datasource)\n",
        "  \"\"\"\n",
        "\n",
        "  df =sc.sql(sql)\n",
        "\n",
        "  df.createOrReplaceTempView(name)\n",
        "\n",
        "  print('----таблица сравнения----')\n",
        "\n",
        "  print (sc.sql(f'SELECT * FROM {name}').show(num_rows))\n"
      ],
      "execution_count": 191,
      "outputs": []
    },
    {
      "cell_type": "code",
      "metadata": {
        "id": "XuBTKLtaqaft"
      },
      "source": [
        ""
      ],
      "execution_count": 173,
      "outputs": []
    },
    {
      "cell_type": "code",
      "metadata": {
        "id": "M4oEci9yq0x1"
      },
      "source": [
        "# показываем отличающиеся строки в обоих датасетах \n",
        "def show_diff_rows(sc=sqlContext, num_rows=100):\n",
        "\n",
        "\n",
        "  # строки отличающиеся по Hash\n",
        "  sql = f\"\"\"\n",
        "  SELECT\n",
        "    ds.*\n",
        "    , '{t1_name}' AS datasource \n",
        "  FROM\n",
        "    {t1_name} AS ds\n",
        "  WHERE \n",
        "    ds.id IN (SELECT t1_id FROM {result_table_name} WHERE t2_id IS NULL)\n",
        "\n",
        "  UNION ALL\n",
        "\n",
        "  SELECT\n",
        "    ds.*\n",
        "    , '{t2_name}' AS datasource \n",
        "  FROM\n",
        "    {t2_name} AS ds\n",
        "  WHERE \n",
        "    ds.id IN (SELECT t2_id FROM {result_table_name} WHERE t1_id IS NULL)\n",
        "  \"\"\"\n",
        "\n",
        "\n",
        "  # строки отличающиеся по порогу для числовых полей \n",
        "  diff_fields = ''\n",
        "  field_pos =0\n",
        "\n",
        "  for diff_field in params['numeric_fields']:\n",
        "      field_pos = field_pos + 1\n",
        "      diff_fields =  f\"\\n AND (diff_{field_pos}>={params['pr']})\"\n",
        "\n",
        "      sql = sql +f\"\"\"\n",
        "\n",
        "      UNION ALL\n",
        "      \n",
        "      SELECT\n",
        "        ds.*\n",
        "        , '{t1_name}' AS datasource \n",
        "      FROM\n",
        "        {t1_name}  AS ds\n",
        "      WHERE \n",
        "        ds.id IN (SELECT t1_id FROM {result_table_name} WHERE t1_id IS NOT NULL {diff_fields} )\n",
        "\n",
        "      UNION ALL\n",
        "      \n",
        "      SELECT\n",
        "        ds.*\n",
        "        , '{t2_name}' AS datasource \n",
        "      FROM\n",
        "        {t2_name}  AS ds\n",
        "      WHERE \n",
        "        ds.id IN (SELECT t2_id FROM {result_table_name} WHERE t2_id IS NOT NULL {diff_fields}) \n",
        "    \"\"\"\n",
        "  sql = sql + \"\\n ORDER BY id, datasource\"\n",
        "\n",
        "  print('----Отличающиеся строки----')\n",
        "\n",
        "  sc.sql(sql).show(num_rows)"
      ],
      "execution_count": 192,
      "outputs": []
    },
    {
      "cell_type": "markdown",
      "metadata": {
        "id": "KraWesmwJE88"
      },
      "source": [
        "# Тестируем"
      ]
    },
    {
      "cell_type": "code",
      "metadata": {
        "colab": {
          "base_uri": "https://localhost:8080/"
        },
        "id": "fQnQL-Pm1JlK",
        "outputId": "9f2bfb1b-e6a1-4686-e6c7-1913f6cc5a6b"
      },
      "source": [
        "# смотрим  результаты при исходных настройках\n",
        "\n",
        "find_diff(result_table_name)\n",
        "show_diff_rows()"
      ],
      "execution_count": 193,
      "outputs": [
        {
          "output_type": "stream",
          "text": [
            "----таблица сравнения----\n",
            "+------+-----------+----------+------+-----------+----------+--------------------+\n",
            "| t1_id| datasource|t1_join_id| t2_id| datasource|t2_join_id|              diff_1|\n",
            "+------+-----------+----------+------+-----------+----------+--------------------+\n",
            "|  null|       null|      null|536365|datasource2| 276757883|                 0.0|\n",
            "|536366|datasource1| 222762075|536366|datasource2| 222762075|0.051724137931034454|\n",
            "|536367|datasource1|1745396149|536367|datasource2|1745396149|                 0.0|\n",
            "|536371|datasource1| 269447997|536371|datasource2| 269447997|                 0.0|\n",
            "|536372|datasource1| 389887883|  null|       null|      null|                 0.0|\n",
            "|536373|datasource1|  10963135|  null|       null|      null|                 0.0|\n",
            "|  null|       null|      null|536373|datasource2| 677451890|                 0.0|\n",
            "+------+-----------+----------+------+-----------+----------+--------------------+\n",
            "\n",
            "None\n",
            "----Отличающиеся строки----\n",
            "+------+---------+--------------------+--------+------------------+---------+-----+-------+-----------+\n",
            "|    id|StockCode|         Description|Quantity|       InvoiceDate|UnitPrice|  uid|Country| datasource|\n",
            "+------+---------+--------------------+--------+------------------+---------+-----+-------+-----------+\n",
            "|536365|    71053| WHITE METAL LANTERN|       6|01.12.2010 8:26:00|     3.39|17850| France|datasource2|\n",
            "|536372|    22492|MINI PAINT SET VI...|      36|01.12.2010 8:45:00|     0.65|12584| France|datasource1|\n",
            "|536373|     POST|             POSTAGE|       3|01.12.2010 8:45:00|     18.0|12584| France|datasource1|\n",
            "|536373|     POST|             POSTAGE|       4|01.12.2010 8:45:00|     18.0|12584| France|datasource2|\n",
            "+------+---------+--------------------+--------+------------------+---------+-----+-------+-----------+\n",
            "\n"
          ],
          "name": "stdout"
        }
      ]
    },
    {
      "cell_type": "code",
      "metadata": {
        "id": "6JSykdfIFWYj"
      },
      "source": [
        ""
      ],
      "execution_count": null,
      "outputs": []
    },
    {
      "cell_type": "markdown",
      "metadata": {
        "id": "3IXDpdPWFaWh"
      },
      "source": [
        "Видим:\n",
        "\n",
        "\n",
        "*  строку с id = 536365 - она есть только в datasource2 \n",
        "*  строку с id = 536372 - она есть только в datasource1\n",
        "*  у строк с id =536373 различаются Quantity\n",
        "* у строк с id = 536366  отличаются цены, но для нас они не различимы так как отличие всего в 0.0517, а порог у нас 0.1\n",
        "\n",
        "\n",
        "\n"
      ]
    },
    {
      "cell_type": "code",
      "metadata": {
        "id": "PFIiexUF9jqk"
      },
      "source": [
        ""
      ],
      "execution_count": 156,
      "outputs": []
    },
    {
      "cell_type": "code",
      "metadata": {
        "colab": {
          "base_uri": "https://localhost:8080/"
        },
        "id": "rhBNsfia71O1",
        "outputId": "4e30dac9-3ab7-4490-f84d-bde137575aa0"
      },
      "source": [
        "params = {\n",
        "    'hash_fields': ['StockCode', 'Description', 'Quantity', 'InvoiceDate', 'uid', 'Country'], # поля, от которых будем считать hash\n",
        "    'numeric_fields': ['UnitPrice'], # поля, по которым будем считать допустимую погрешность. Должны не пересекаться с hash_fields\n",
        "    'pr': 0.01 # значение допустимой погрешности\n",
        "\n",
        "}\n",
        "find_diff(result_table_name)\n",
        "show_diff_rows()"
      ],
      "execution_count": 194,
      "outputs": [
        {
          "output_type": "stream",
          "text": [
            "----таблица сравнения----\n",
            "+------+-----------+----------+------+-----------+----------+--------------------+\n",
            "| t1_id| datasource|t1_join_id| t2_id| datasource|t2_join_id|              diff_1|\n",
            "+------+-----------+----------+------+-----------+----------+--------------------+\n",
            "|  null|       null|      null|536365|datasource2| 276757883|                 0.0|\n",
            "|536366|datasource1| 222762075|536366|datasource2| 222762075|0.051724137931034454|\n",
            "|536367|datasource1|1745396149|536367|datasource2|1745396149|                 0.0|\n",
            "|536371|datasource1| 269447997|536371|datasource2| 269447997|                 0.0|\n",
            "|536372|datasource1| 389887883|  null|       null|      null|                 0.0|\n",
            "|536373|datasource1|  10963135|  null|       null|      null|                 0.0|\n",
            "|  null|       null|      null|536373|datasource2| 677451890|                 0.0|\n",
            "+------+-----------+----------+------+-----------+----------+--------------------+\n",
            "\n",
            "None\n",
            "----Отличающиеся строки----\n",
            "+------+---------+--------------------+--------+------------------+---------+-----+--------------+-----------+\n",
            "|    id|StockCode|         Description|Quantity|       InvoiceDate|UnitPrice|  uid|       Country| datasource|\n",
            "+------+---------+--------------------+--------+------------------+---------+-----+--------------+-----------+\n",
            "|536365|    71053| WHITE METAL LANTERN|       6|01.12.2010 8:26:00|     3.39|17850|        France|datasource2|\n",
            "|536366|   84406B|CREAM CUPID HEART...|       8|01.12.2010 8:26:00|     2.75|17850|United Kingdom|datasource1|\n",
            "|536366|   84406B|CREAM CUPID HEART...|       8|01.12.2010 8:26:00|      2.9|17850|United Kingdom|datasource2|\n",
            "|536372|    22492|MINI PAINT SET VI...|      36|01.12.2010 8:45:00|     0.65|12584|        France|datasource1|\n",
            "|536373|     POST|             POSTAGE|       3|01.12.2010 8:45:00|     18.0|12584|        France|datasource1|\n",
            "|536373|     POST|             POSTAGE|       4|01.12.2010 8:45:00|     18.0|12584|        France|datasource2|\n",
            "+------+---------+--------------------+--------+------------------+---------+-----+--------------+-----------+\n",
            "\n"
          ],
          "name": "stdout"
        }
      ]
    },
    {
      "cell_type": "markdown",
      "metadata": {
        "id": "D-Y57jshGi_G"
      },
      "source": [
        "\n",
        "\n",
        "* все тоже как в прошлом примере, но уменьшили порог и потому видим отличие для строк с id = 536366"
      ]
    },
    {
      "cell_type": "code",
      "metadata": {
        "colab": {
          "base_uri": "https://localhost:8080/"
        },
        "id": "6xQ1MGBx8dYP",
        "outputId": "f965bf9c-729d-48a9-b9fa-609f06bf7b91"
      },
      "source": [
        "params = {\n",
        "    'hash_fields': ['StockCode', 'Description',  'InvoiceDate', 'uid', 'Country'], # поля, от которых будем считать hash\n",
        "    'numeric_fields': ['UnitPrice', 'Quantity'], # поля, по которым будем считать допустимую погрешность. Должны не пересекаться с hash_fields\n",
        "    'pr': 0.01 # значение допустимой погрешности\n",
        "\n",
        "}\n",
        "find_diff(result_table_name)\n",
        "show_diff_rows()"
      ],
      "execution_count": 195,
      "outputs": [
        {
          "output_type": "stream",
          "text": [
            "----таблица сравнения----\n",
            "+------+-----------+----------+------+-----------+----------+--------------------+------+\n",
            "| t1_id| datasource|t1_join_id| t2_id| datasource|t2_join_id|              diff_1|diff_2|\n",
            "+------+-----------+----------+------+-----------+----------+--------------------+------+\n",
            "|  null|       null|      null|536365|datasource2|  72187578|                 0.0|   0.0|\n",
            "|536366|datasource1| 570544821|536366|datasource2| 570544821|0.051724137931034454|   0.0|\n",
            "|536367|datasource1|  26764253|536367|datasource2|  26764253|                 0.0|   0.0|\n",
            "|536371|datasource1|1401062030|536371|datasource2|1401062030|                 0.0|   0.0|\n",
            "|536372|datasource1| 250270336|  null|       null|      null|                 0.0|   0.0|\n",
            "|536373|datasource1| 816965145|536373|datasource2| 816965145|                 0.0|  0.25|\n",
            "+------+-----------+----------+------+-----------+----------+--------------------+------+\n",
            "\n",
            "None\n",
            "----Отличающиеся строки----\n",
            "+------+---------+--------------------+--------+------------------+---------+-----+--------------+-----------+\n",
            "|    id|StockCode|         Description|Quantity|       InvoiceDate|UnitPrice|  uid|       Country| datasource|\n",
            "+------+---------+--------------------+--------+------------------+---------+-----+--------------+-----------+\n",
            "|536365|    71053| WHITE METAL LANTERN|       6|01.12.2010 8:26:00|     3.39|17850|        France|datasource2|\n",
            "|536366|   84406B|CREAM CUPID HEART...|       8|01.12.2010 8:26:00|     2.75|17850|United Kingdom|datasource1|\n",
            "|536366|   84406B|CREAM CUPID HEART...|       8|01.12.2010 8:26:00|      2.9|17850|United Kingdom|datasource2|\n",
            "|536372|    22492|MINI PAINT SET VI...|      36|01.12.2010 8:45:00|     0.65|12584|        France|datasource1|\n",
            "|536373|     POST|             POSTAGE|       3|01.12.2010 8:45:00|     18.0|12584|        France|datasource1|\n",
            "|536373|     POST|             POSTAGE|       4|01.12.2010 8:45:00|     18.0|12584|        France|datasource2|\n",
            "+------+---------+--------------------+--------+------------------+---------+-----+--------------+-----------+\n",
            "\n"
          ],
          "name": "stdout"
        }
      ]
    },
    {
      "cell_type": "markdown",
      "metadata": {
        "id": "Z-pvVZrGHLLl"
      },
      "source": [
        "\n",
        "\n",
        "* пробуем использовать пороги сразу для двух полей 'UnitPrice', 'Quantity' - разница больше 0.01 потому видим строки для id = 536373 и 536366"
      ]
    },
    {
      "cell_type": "code",
      "metadata": {
        "colab": {
          "base_uri": "https://localhost:8080/"
        },
        "id": "4_jlIIaBCvlq",
        "outputId": "55958008-8ea2-4c05-c5ae-018a5bce1f75"
      },
      "source": [
        "params = {\n",
        "    'hash_fields': ['StockCode', 'Description',  'InvoiceDate', 'uid', 'Country'], # поля, от которых будем считать hash\n",
        "    'numeric_fields': ['UnitPrice', 'Quantity'], # поля, по которым будем считать допустимую погрешность. Должны не пересекаться с hash_fields\n",
        "    'pr': 0.1 # значение допустимой погрешности\n",
        "\n",
        "}\n",
        "find_diff(result_table_name)\n",
        "show_diff_rows()"
      ],
      "execution_count": 196,
      "outputs": [
        {
          "output_type": "stream",
          "text": [
            "----таблица сравнения----\n",
            "+------+-----------+----------+------+-----------+----------+--------------------+------+\n",
            "| t1_id| datasource|t1_join_id| t2_id| datasource|t2_join_id|              diff_1|diff_2|\n",
            "+------+-----------+----------+------+-----------+----------+--------------------+------+\n",
            "|  null|       null|      null|536365|datasource2|  72187578|                 0.0|   0.0|\n",
            "|536366|datasource1| 570544821|536366|datasource2| 570544821|0.051724137931034454|   0.0|\n",
            "|536367|datasource1|  26764253|536367|datasource2|  26764253|                 0.0|   0.0|\n",
            "|536371|datasource1|1401062030|536371|datasource2|1401062030|                 0.0|   0.0|\n",
            "|536372|datasource1| 250270336|  null|       null|      null|                 0.0|   0.0|\n",
            "|536373|datasource1| 816965145|536373|datasource2| 816965145|                 0.0|  0.25|\n",
            "+------+-----------+----------+------+-----------+----------+--------------------+------+\n",
            "\n",
            "None\n",
            "----Отличающиеся строки----\n",
            "+------+---------+--------------------+--------+------------------+---------+-----+-------+-----------+\n",
            "|    id|StockCode|         Description|Quantity|       InvoiceDate|UnitPrice|  uid|Country| datasource|\n",
            "+------+---------+--------------------+--------+------------------+---------+-----+-------+-----------+\n",
            "|536365|    71053| WHITE METAL LANTERN|       6|01.12.2010 8:26:00|     3.39|17850| France|datasource2|\n",
            "|536372|    22492|MINI PAINT SET VI...|      36|01.12.2010 8:45:00|     0.65|12584| France|datasource1|\n",
            "|536373|     POST|             POSTAGE|       3|01.12.2010 8:45:00|     18.0|12584| France|datasource1|\n",
            "|536373|     POST|             POSTAGE|       4|01.12.2010 8:45:00|     18.0|12584| France|datasource2|\n",
            "+------+---------+--------------------+--------+------------------+---------+-----+-------+-----------+\n",
            "\n"
          ],
          "name": "stdout"
        }
      ]
    },
    {
      "cell_type": "markdown",
      "metadata": {
        "id": "JHLjrYQ2HlLB"
      },
      "source": [
        "\n",
        "* поднимаем порог до 0.1 для id = 536373 все еще меньше разницы (0.25)   Для строк с id = 536366 мы уже не видим разницу."
      ]
    },
    {
      "cell_type": "code",
      "metadata": {
        "colab": {
          "base_uri": "https://localhost:8080/"
        },
        "id": "TAO3K5mB_AJb",
        "outputId": "ded2a288-f7a9-4c6c-9ff5-194579f98255"
      },
      "source": [
        "params = {\n",
        "    'hash_fields': ['StockCode', 'Description',  'InvoiceDate', 'uid', 'Country'], # поля, от которых будем считать hash\n",
        "    'numeric_fields': ['UnitPrice', 'Quantity'], # поля, по которым будем считать допустимую погрешность. Должны не пересекаться с hash_fields\n",
        "    'pr': 0.26 # значение допустимой погрешности\n",
        "\n",
        "}\n",
        "find_diff(result_table_name)\n",
        "show_diff_rows()"
      ],
      "execution_count": 197,
      "outputs": [
        {
          "output_type": "stream",
          "text": [
            "----таблица сравнения----\n",
            "+------+-----------+----------+------+-----------+----------+--------------------+------+\n",
            "| t1_id| datasource|t1_join_id| t2_id| datasource|t2_join_id|              diff_1|diff_2|\n",
            "+------+-----------+----------+------+-----------+----------+--------------------+------+\n",
            "|  null|       null|      null|536365|datasource2|  72187578|                 0.0|   0.0|\n",
            "|536366|datasource1| 570544821|536366|datasource2| 570544821|0.051724137931034454|   0.0|\n",
            "|536367|datasource1|  26764253|536367|datasource2|  26764253|                 0.0|   0.0|\n",
            "|536371|datasource1|1401062030|536371|datasource2|1401062030|                 0.0|   0.0|\n",
            "|536372|datasource1| 250270336|  null|       null|      null|                 0.0|   0.0|\n",
            "|536373|datasource1| 816965145|536373|datasource2| 816965145|                 0.0|  0.25|\n",
            "+------+-----------+----------+------+-----------+----------+--------------------+------+\n",
            "\n",
            "None\n",
            "----Отличающиеся строки----\n",
            "+------+---------+--------------------+--------+------------------+---------+-----+-------+-----------+\n",
            "|    id|StockCode|         Description|Quantity|       InvoiceDate|UnitPrice|  uid|Country| datasource|\n",
            "+------+---------+--------------------+--------+------------------+---------+-----+-------+-----------+\n",
            "|536365|    71053| WHITE METAL LANTERN|       6|01.12.2010 8:26:00|     3.39|17850| France|datasource2|\n",
            "|536372|    22492|MINI PAINT SET VI...|      36|01.12.2010 8:45:00|     0.65|12584| France|datasource1|\n",
            "+------+---------+--------------------+--------+------------------+---------+-----+-------+-----------+\n",
            "\n"
          ],
          "name": "stdout"
        }
      ]
    },
    {
      "cell_type": "markdown",
      "metadata": {
        "id": "d4yFXa1KIGcu"
      },
      "source": [
        "\n",
        "\n",
        "* поднимаем порог до 0.26 строки с id = 536373 становятся для нас не различимыми"
      ]
    },
    {
      "cell_type": "code",
      "metadata": {
        "colab": {
          "base_uri": "https://localhost:8080/"
        },
        "id": "IbodjR4JAD-B",
        "outputId": "b12f69a3-3dbb-455e-9202-e2925edb158e"
      },
      "source": [
        "params = {\n",
        "    'hash_fields': ['StockCode', 'Description',  'InvoiceDate', 'uid', 'Country', 'UnitPrice', 'Quantity'], # поля, от которых будем считать hash\n",
        "    'numeric_fields': [], # поля, по которым будем считать допустимую погрешность. Должны не пересекаться с hash_fields\n",
        "    'pr': 0.26 # значение допустимой погрешности\n",
        "\n",
        "}\n",
        "find_diff(result_table_name)\n",
        "show_diff_rows()"
      ],
      "execution_count": 198,
      "outputs": [
        {
          "output_type": "stream",
          "text": [
            "----таблица сравнения----\n",
            "+------+-----------+----------+------+-----------+----------+\n",
            "| t1_id| datasource|t1_join_id| t2_id| datasource|t2_join_id|\n",
            "+------+-----------+----------+------+-----------+----------+\n",
            "|  null|       null|      null|536365|datasource2|  78091976|\n",
            "|536366|datasource1|1762860193|  null|       null|      null|\n",
            "|  null|       null|      null|536366|datasource2| 749749351|\n",
            "|536367|datasource1|1661980297|536367|datasource2|1661980297|\n",
            "|536371|datasource1| 314767742|536371|datasource2| 314767742|\n",
            "|536372|datasource1| 991513814|  null|       null|      null|\n",
            "|536373|datasource1|1844009968|  null|       null|      null|\n",
            "|  null|       null|      null|536373|datasource2| 292433632|\n",
            "+------+-----------+----------+------+-----------+----------+\n",
            "\n",
            "None\n",
            "----Отличающиеся строки----\n",
            "+------+---------+--------------------+--------+------------------+---------+-----+--------------+-----------+\n",
            "|    id|StockCode|         Description|Quantity|       InvoiceDate|UnitPrice|  uid|       Country| datasource|\n",
            "+------+---------+--------------------+--------+------------------+---------+-----+--------------+-----------+\n",
            "|536365|    71053| WHITE METAL LANTERN|       6|01.12.2010 8:26:00|     3.39|17850|        France|datasource2|\n",
            "|536366|   84406B|CREAM CUPID HEART...|       8|01.12.2010 8:26:00|     2.75|17850|United Kingdom|datasource1|\n",
            "|536366|   84406B|CREAM CUPID HEART...|       8|01.12.2010 8:26:00|      2.9|17850|United Kingdom|datasource2|\n",
            "|536372|    22492|MINI PAINT SET VI...|      36|01.12.2010 8:45:00|     0.65|12584|        France|datasource1|\n",
            "|536373|     POST|             POSTAGE|       3|01.12.2010 8:45:00|     18.0|12584|        France|datasource1|\n",
            "|536373|     POST|             POSTAGE|       4|01.12.2010 8:45:00|     18.0|12584|        France|datasource2|\n",
            "+------+---------+--------------------+--------+------------------+---------+-----+--------------+-----------+\n",
            "\n"
          ],
          "name": "stdout"
        }
      ]
    },
    {
      "cell_type": "markdown",
      "metadata": {
        "id": "0JzHyRljIWYO"
      },
      "source": [
        "\n",
        "\n",
        "* убираем использование порогов для полей с числами. получаем все отличающиеся строки"
      ]
    },
    {
      "cell_type": "code",
      "metadata": {
        "colab": {
          "base_uri": "https://localhost:8080/"
        },
        "id": "7FXm5whuIRYJ",
        "outputId": "657ec87f-4ac2-45e6-bbb3-4714dcb7301f"
      },
      "source": [
        "params = {\n",
        "    'hash_fields': ['StockCode', 'Description',  'InvoiceDate', 'uid', 'Country', 'UnitPrice'], # поля, от которых будем считать hash\n",
        "    'numeric_fields': [], # поля, по которым будем считать допустимую погрешность. Должны не пересекаться с hash_fields\n",
        "    'pr': 0.26 # значение допустимой погрешности\n",
        "\n",
        "}\n",
        "find_diff(result_table_name)\n",
        "show_diff_rows()"
      ],
      "execution_count": 199,
      "outputs": [
        {
          "output_type": "stream",
          "text": [
            "----таблица сравнения----\n",
            "+------+-----------+----------+------+-----------+----------+\n",
            "| t1_id| datasource|t1_join_id| t2_id| datasource|t2_join_id|\n",
            "+------+-----------+----------+------+-----------+----------+\n",
            "|  null|       null|      null|536365|datasource2| 894994818|\n",
            "|536366|datasource1| 120452655|  null|       null|      null|\n",
            "|  null|       null|      null|536366|datasource2| 581121809|\n",
            "|536367|datasource1| 333942080|536367|datasource2| 333942080|\n",
            "|536371|datasource1|1153878540|536371|datasource2|1153878540|\n",
            "|536372|datasource1|1303847876|  null|       null|      null|\n",
            "|536373|datasource1|2028191744|536373|datasource2|2028191744|\n",
            "+------+-----------+----------+------+-----------+----------+\n",
            "\n",
            "None\n",
            "----Отличающиеся строки----\n",
            "+------+---------+--------------------+--------+------------------+---------+-----+--------------+-----------+\n",
            "|    id|StockCode|         Description|Quantity|       InvoiceDate|UnitPrice|  uid|       Country| datasource|\n",
            "+------+---------+--------------------+--------+------------------+---------+-----+--------------+-----------+\n",
            "|536365|    71053| WHITE METAL LANTERN|       6|01.12.2010 8:26:00|     3.39|17850|        France|datasource2|\n",
            "|536366|   84406B|CREAM CUPID HEART...|       8|01.12.2010 8:26:00|     2.75|17850|United Kingdom|datasource1|\n",
            "|536366|   84406B|CREAM CUPID HEART...|       8|01.12.2010 8:26:00|      2.9|17850|United Kingdom|datasource2|\n",
            "|536372|    22492|MINI PAINT SET VI...|      36|01.12.2010 8:45:00|     0.65|12584|        France|datasource1|\n",
            "+------+---------+--------------------+--------+------------------+---------+-----+--------------+-----------+\n",
            "\n"
          ],
          "name": "stdout"
        }
      ]
    },
    {
      "cell_type": "code",
      "metadata": {
        "id": "L5a-sX9xIxpP"
      },
      "source": [
        ""
      ],
      "execution_count": 182,
      "outputs": []
    },
    {
      "cell_type": "markdown",
      "metadata": {
        "id": "MAHOZcFDJaqz"
      },
      "source": [
        "* убираем использование порогов для полей с числами. убираем Quantity из  полей сравнения. строки с id =536373 стали для нас не различимы."
      ]
    },
    {
      "cell_type": "code",
      "metadata": {
        "id": "cHVNEb3WJC0v"
      },
      "source": [
        ""
      ],
      "execution_count": null,
      "outputs": []
    }
  ]
}